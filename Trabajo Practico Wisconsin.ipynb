{
 "cells": [
  {
   "cell_type": "markdown",
   "metadata": {},
   "source": [
    "## Trabajo practico wisconsin  Aprendisaje Aumtomatico 1 \n",
    "### Alumno: Morales Lucas Andrés"
   ]
  },
  {
   "cell_type": "code",
   "execution_count": 1,
   "metadata": {},
   "outputs": [],
   "source": [
    "import pandas as pd\n",
    "import numpy as np\n",
    "from sklearn.model_selection import train_test_split\n",
    "\n",
    "#importamos los modelos:\n",
    "from sklearn import linear_model\n",
    "from sklearn import neighbors\n",
    "from sklearn.tree import DecisionTreeClassifier\n",
    "\n",
    "#importamos las librerias para evaluar \n",
    "from sklearn.metrics import confusion_matrix, f1_score, accuracy_score \n"
   ]
  },
  {
   "cell_type": "markdown",
   "metadata": {},
   "source": [
    "### importamos los datos\n"
   ]
  },
  {
   "cell_type": "code",
   "execution_count": 2,
   "metadata": {},
   "outputs": [
    {
     "data": {
      "text/html": [
       "<div>\n",
       "<style scoped>\n",
       "    .dataframe tbody tr th:only-of-type {\n",
       "        vertical-align: middle;\n",
       "    }\n",
       "\n",
       "    .dataframe tbody tr th {\n",
       "        vertical-align: top;\n",
       "    }\n",
       "\n",
       "    .dataframe thead th {\n",
       "        text-align: right;\n",
       "    }\n",
       "</style>\n",
       "<table border=\"1\" class=\"dataframe\">\n",
       "  <thead>\n",
       "    <tr style=\"text-align: right;\">\n",
       "      <th></th>\n",
       "      <th>Clump thickness</th>\n",
       "      <th>Unif_Cell_Size</th>\n",
       "      <th>Unif_Cell_Shape</th>\n",
       "      <th>Marginal_Adhesion</th>\n",
       "      <th>Single_Cell_Size</th>\n",
       "      <th>Bare_Nuclei</th>\n",
       "      <th>Bland_Chromatine</th>\n",
       "      <th>Normal_Nucleoli</th>\n",
       "      <th>Mitoses</th>\n",
       "      <th>type</th>\n",
       "      <th>Selected</th>\n",
       "    </tr>\n",
       "  </thead>\n",
       "  <tbody>\n",
       "    <tr>\n",
       "      <th>0</th>\n",
       "      <td>9.67</td>\n",
       "      <td>9.96</td>\n",
       "      <td>9.27</td>\n",
       "      <td>2.40</td>\n",
       "      <td>9.49</td>\n",
       "      <td>7.93</td>\n",
       "      <td>7.90</td>\n",
       "      <td>0.33</td>\n",
       "      <td>0.06</td>\n",
       "      <td>malign</td>\n",
       "      <td>No</td>\n",
       "    </tr>\n",
       "    <tr>\n",
       "      <th>1</th>\n",
       "      <td>0.14</td>\n",
       "      <td>0.15</td>\n",
       "      <td>0.47</td>\n",
       "      <td>0.82</td>\n",
       "      <td>1.71</td>\n",
       "      <td>0.19</td>\n",
       "      <td>2.22</td>\n",
       "      <td>0.55</td>\n",
       "      <td>0.49</td>\n",
       "      <td>benign</td>\n",
       "      <td>No</td>\n",
       "    </tr>\n",
       "    <tr>\n",
       "      <th>2</th>\n",
       "      <td>0.61</td>\n",
       "      <td>0.49</td>\n",
       "      <td>0.99</td>\n",
       "      <td>0.19</td>\n",
       "      <td>1.98</td>\n",
       "      <td>0.27</td>\n",
       "      <td>2.07</td>\n",
       "      <td>0.71</td>\n",
       "      <td>0.28</td>\n",
       "      <td>benign</td>\n",
       "      <td>No</td>\n",
       "    </tr>\n",
       "    <tr>\n",
       "      <th>3</th>\n",
       "      <td>7.29</td>\n",
       "      <td>1.11</td>\n",
       "      <td>3.42</td>\n",
       "      <td>0.07</td>\n",
       "      <td>4.63</td>\n",
       "      <td>0.25</td>\n",
       "      <td>4.17</td>\n",
       "      <td>3.76</td>\n",
       "      <td>3.11</td>\n",
       "      <td>malign</td>\n",
       "      <td>No</td>\n",
       "    </tr>\n",
       "    <tr>\n",
       "      <th>4</th>\n",
       "      <td>6.03</td>\n",
       "      <td>2.47</td>\n",
       "      <td>1.64</td>\n",
       "      <td>9.15</td>\n",
       "      <td>4.48</td>\n",
       "      <td>9.86</td>\n",
       "      <td>4.43</td>\n",
       "      <td>3.58</td>\n",
       "      <td>3.73</td>\n",
       "      <td>malign</td>\n",
       "      <td>No</td>\n",
       "    </tr>\n",
       "    <tr>\n",
       "      <th>...</th>\n",
       "      <td>...</td>\n",
       "      <td>...</td>\n",
       "      <td>...</td>\n",
       "      <td>...</td>\n",
       "      <td>...</td>\n",
       "      <td>...</td>\n",
       "      <td>...</td>\n",
       "      <td>...</td>\n",
       "      <td>...</td>\n",
       "      <td>...</td>\n",
       "      <td>...</td>\n",
       "    </tr>\n",
       "    <tr>\n",
       "      <th>578</th>\n",
       "      <td>5.00</td>\n",
       "      <td>4.92</td>\n",
       "      <td>4.65</td>\n",
       "      <td>5.29</td>\n",
       "      <td>2.63</td>\n",
       "      <td>9.22</td>\n",
       "      <td>2.81</td>\n",
       "      <td>0.78</td>\n",
       "      <td>0.13</td>\n",
       "      <td>malign</td>\n",
       "      <td>No</td>\n",
       "    </tr>\n",
       "    <tr>\n",
       "      <th>579</th>\n",
       "      <td>4.66</td>\n",
       "      <td>1.91</td>\n",
       "      <td>2.22</td>\n",
       "      <td>0.28</td>\n",
       "      <td>5.07</td>\n",
       "      <td>9.36</td>\n",
       "      <td>4.67</td>\n",
       "      <td>0.76</td>\n",
       "      <td>0.90</td>\n",
       "      <td>malign</td>\n",
       "      <td>No</td>\n",
       "    </tr>\n",
       "    <tr>\n",
       "      <th>580</th>\n",
       "      <td>2.90</td>\n",
       "      <td>0.77</td>\n",
       "      <td>0.24</td>\n",
       "      <td>3.74</td>\n",
       "      <td>2.32</td>\n",
       "      <td>0.23</td>\n",
       "      <td>1.19</td>\n",
       "      <td>1.12</td>\n",
       "      <td>0.94</td>\n",
       "      <td>benign</td>\n",
       "      <td>No</td>\n",
       "    </tr>\n",
       "    <tr>\n",
       "      <th>581</th>\n",
       "      <td>4.72</td>\n",
       "      <td>0.04</td>\n",
       "      <td>0.46</td>\n",
       "      <td>2.62</td>\n",
       "      <td>1.39</td>\n",
       "      <td>0.50</td>\n",
       "      <td>0.70</td>\n",
       "      <td>0.86</td>\n",
       "      <td>0.92</td>\n",
       "      <td>benign</td>\n",
       "      <td>No</td>\n",
       "    </tr>\n",
       "    <tr>\n",
       "      <th>582</th>\n",
       "      <td>6.08</td>\n",
       "      <td>4.91</td>\n",
       "      <td>9.90</td>\n",
       "      <td>9.48</td>\n",
       "      <td>9.48</td>\n",
       "      <td>9.16</td>\n",
       "      <td>3.83</td>\n",
       "      <td>9.20</td>\n",
       "      <td>2.59</td>\n",
       "      <td>malign</td>\n",
       "      <td>No</td>\n",
       "    </tr>\n",
       "  </tbody>\n",
       "</table>\n",
       "<p>583 rows × 11 columns</p>\n",
       "</div>"
      ],
      "text/plain": [
       "     Clump thickness  Unif_Cell_Size  Unif_Cell_Shape  Marginal_Adhesion  \\\n",
       "0               9.67            9.96             9.27               2.40   \n",
       "1               0.14            0.15             0.47               0.82   \n",
       "2               0.61            0.49             0.99               0.19   \n",
       "3               7.29            1.11             3.42               0.07   \n",
       "4               6.03            2.47             1.64               9.15   \n",
       "..               ...             ...              ...                ...   \n",
       "578             5.00            4.92             4.65               5.29   \n",
       "579             4.66            1.91             2.22               0.28   \n",
       "580             2.90            0.77             0.24               3.74   \n",
       "581             4.72            0.04             0.46               2.62   \n",
       "582             6.08            4.91             9.90               9.48   \n",
       "\n",
       "     Single_Cell_Size  Bare_Nuclei  Bland_Chromatine  Normal_Nucleoli  \\\n",
       "0                9.49         7.93              7.90             0.33   \n",
       "1                1.71         0.19              2.22             0.55   \n",
       "2                1.98         0.27              2.07             0.71   \n",
       "3                4.63         0.25              4.17             3.76   \n",
       "4                4.48         9.86              4.43             3.58   \n",
       "..                ...          ...               ...              ...   \n",
       "578              2.63         9.22              2.81             0.78   \n",
       "579              5.07         9.36              4.67             0.76   \n",
       "580              2.32         0.23              1.19             1.12   \n",
       "581              1.39         0.50              0.70             0.86   \n",
       "582              9.48         9.16              3.83             9.20   \n",
       "\n",
       "     Mitoses    type Selected  \n",
       "0       0.06  malign       No  \n",
       "1       0.49  benign       No  \n",
       "2       0.28  benign       No  \n",
       "3       3.11  malign       No  \n",
       "4       3.73  malign       No  \n",
       "..       ...     ...      ...  \n",
       "578     0.13  malign       No  \n",
       "579     0.90  malign       No  \n",
       "580     0.94  benign       No  \n",
       "581     0.92  benign       No  \n",
       "582     2.59  malign       No  \n",
       "\n",
       "[583 rows x 11 columns]"
      ]
     },
     "execution_count": 2,
     "metadata": {},
     "output_type": "execute_result"
    }
   ],
   "source": [
    "df=pd.read_csv('Aprendizaje_breast-cancer-wisconsin.tab', delimiter='\\t')\n",
    "df"
   ]
  },
  {
   "cell_type": "markdown",
   "metadata": {},
   "source": [
    "### Quitamos los datos innecesarios\n"
   ]
  },
  {
   "cell_type": "code",
   "execution_count": 3,
   "metadata": {},
   "outputs": [
    {
     "data": {
      "text/html": [
       "<div>\n",
       "<style scoped>\n",
       "    .dataframe tbody tr th:only-of-type {\n",
       "        vertical-align: middle;\n",
       "    }\n",
       "\n",
       "    .dataframe tbody tr th {\n",
       "        vertical-align: top;\n",
       "    }\n",
       "\n",
       "    .dataframe thead th {\n",
       "        text-align: right;\n",
       "    }\n",
       "</style>\n",
       "<table border=\"1\" class=\"dataframe\">\n",
       "  <thead>\n",
       "    <tr style=\"text-align: right;\">\n",
       "      <th></th>\n",
       "      <th>Clump thickness</th>\n",
       "      <th>Unif_Cell_Size</th>\n",
       "      <th>Unif_Cell_Shape</th>\n",
       "      <th>Marginal_Adhesion</th>\n",
       "      <th>Single_Cell_Size</th>\n",
       "      <th>Bare_Nuclei</th>\n",
       "      <th>Bland_Chromatine</th>\n",
       "      <th>Normal_Nucleoli</th>\n",
       "      <th>Mitoses</th>\n",
       "      <th>type</th>\n",
       "    </tr>\n",
       "  </thead>\n",
       "  <tbody>\n",
       "    <tr>\n",
       "      <th>0</th>\n",
       "      <td>9.67</td>\n",
       "      <td>9.96</td>\n",
       "      <td>9.27</td>\n",
       "      <td>2.40</td>\n",
       "      <td>9.49</td>\n",
       "      <td>7.93</td>\n",
       "      <td>7.90</td>\n",
       "      <td>0.33</td>\n",
       "      <td>0.06</td>\n",
       "      <td>malign</td>\n",
       "    </tr>\n",
       "    <tr>\n",
       "      <th>1</th>\n",
       "      <td>0.14</td>\n",
       "      <td>0.15</td>\n",
       "      <td>0.47</td>\n",
       "      <td>0.82</td>\n",
       "      <td>1.71</td>\n",
       "      <td>0.19</td>\n",
       "      <td>2.22</td>\n",
       "      <td>0.55</td>\n",
       "      <td>0.49</td>\n",
       "      <td>benign</td>\n",
       "    </tr>\n",
       "    <tr>\n",
       "      <th>2</th>\n",
       "      <td>0.61</td>\n",
       "      <td>0.49</td>\n",
       "      <td>0.99</td>\n",
       "      <td>0.19</td>\n",
       "      <td>1.98</td>\n",
       "      <td>0.27</td>\n",
       "      <td>2.07</td>\n",
       "      <td>0.71</td>\n",
       "      <td>0.28</td>\n",
       "      <td>benign</td>\n",
       "    </tr>\n",
       "    <tr>\n",
       "      <th>3</th>\n",
       "      <td>7.29</td>\n",
       "      <td>1.11</td>\n",
       "      <td>3.42</td>\n",
       "      <td>0.07</td>\n",
       "      <td>4.63</td>\n",
       "      <td>0.25</td>\n",
       "      <td>4.17</td>\n",
       "      <td>3.76</td>\n",
       "      <td>3.11</td>\n",
       "      <td>malign</td>\n",
       "    </tr>\n",
       "    <tr>\n",
       "      <th>4</th>\n",
       "      <td>6.03</td>\n",
       "      <td>2.47</td>\n",
       "      <td>1.64</td>\n",
       "      <td>9.15</td>\n",
       "      <td>4.48</td>\n",
       "      <td>9.86</td>\n",
       "      <td>4.43</td>\n",
       "      <td>3.58</td>\n",
       "      <td>3.73</td>\n",
       "      <td>malign</td>\n",
       "    </tr>\n",
       "  </tbody>\n",
       "</table>\n",
       "</div>"
      ],
      "text/plain": [
       "   Clump thickness  Unif_Cell_Size  Unif_Cell_Shape  Marginal_Adhesion  \\\n",
       "0             9.67            9.96             9.27               2.40   \n",
       "1             0.14            0.15             0.47               0.82   \n",
       "2             0.61            0.49             0.99               0.19   \n",
       "3             7.29            1.11             3.42               0.07   \n",
       "4             6.03            2.47             1.64               9.15   \n",
       "\n",
       "   Single_Cell_Size  Bare_Nuclei  Bland_Chromatine  Normal_Nucleoli  Mitoses  \\\n",
       "0              9.49         7.93              7.90             0.33     0.06   \n",
       "1              1.71         0.19              2.22             0.55     0.49   \n",
       "2              1.98         0.27              2.07             0.71     0.28   \n",
       "3              4.63         0.25              4.17             3.76     3.11   \n",
       "4              4.48         9.86              4.43             3.58     3.73   \n",
       "\n",
       "     type  \n",
       "0  malign  \n",
       "1  benign  \n",
       "2  benign  \n",
       "3  malign  \n",
       "4  malign  "
      ]
     },
     "execution_count": 3,
     "metadata": {},
     "output_type": "execute_result"
    }
   ],
   "source": [
    "df=df.drop('Selected', axis=1)\n",
    "df.head()"
   ]
  },
  {
   "cell_type": "markdown",
   "metadata": {},
   "source": [
    "### DIvidimos en Train y Test \n"
   ]
  },
  {
   "cell_type": "code",
   "execution_count": 4,
   "metadata": {},
   "outputs": [],
   "source": [
    "X=df.drop('type', axis=1)\n",
    "Y=df['type']"
   ]
  },
  {
   "cell_type": "code",
   "execution_count": 5,
   "metadata": {},
   "outputs": [],
   "source": [
    "X_train, X_test, Y_train, Y_test = train_test_split(X,Y,test_size=0.25,random_state=123)"
   ]
  },
  {
   "cell_type": "markdown",
   "metadata": {},
   "source": [
    "### ahora dividimos nuevamente para obtener los Validation train y Validation Test respectivamente"
   ]
  },
  {
   "cell_type": "code",
   "execution_count": 6,
   "metadata": {},
   "outputs": [],
   "source": [
    "X_val_train, X_val_test, Y_val_train, Y_val_test = train_test_split(X_train,Y_train,test_size=0.25,random_state=123)"
   ]
  },
  {
   "cell_type": "markdown",
   "metadata": {},
   "source": [
    "### Seleccion de modelos e hiperparámetros :"
   ]
  },
  {
   "cell_type": "markdown",
   "metadata": {},
   "source": [
    "#### Regresion Logistica:"
   ]
  },
  {
   "cell_type": "code",
   "execution_count": 7,
   "metadata": {},
   "outputs": [
    {
     "name": "stdout",
     "output_type": "stream",
     "text": [
      "Evaluación modelo de Regresión Logística en el Validation\n",
      "Accuracy:  0.955\n",
      "F1:  0.954\n"
     ]
    }
   ],
   "source": [
    "modeloRLog= linear_model.LogisticRegression(max_iter=2000, penalty='none', fit_intercept=True , random_state=123)\n",
    "modeloRLog.fit(X_val_train,Y_val_train)\n",
    "Y_val_pred=modeloRLog.predict(X_val_test)\n",
    "\n",
    "#Evaluamos el Validation Test set\n",
    "AC_RLog= accuracy_score(Y_val_test, Y_val_pred)\n",
    "F1_RLog=f1_score(Y_val_test, Y_val_pred, average='weighted')\n",
    "\n",
    "#mostramos los resultados:\n",
    "print(\"Evaluación modelo de Regresión Logística en el Validation\")\n",
    "print(\"Accuracy: \", round(AC_RLog,3))\n",
    "print(\"F1: \", round(F1_RLog,3))\n"
   ]
  },
  {
   "cell_type": "markdown",
   "metadata": {},
   "source": [
    "#### kNN:"
   ]
  },
  {
   "cell_type": "code",
   "execution_count": 8,
   "metadata": {},
   "outputs": [],
   "source": [
    "k_valores=np.arange(1,6,1)# fui probando con distintos arranges con distintos k y a partir de k=1 siempre em daba lo mismo"
   ]
  },
  {
   "cell_type": "code",
   "execution_count": 16,
   "metadata": {},
   "outputs": [
    {
     "name": "stdout",
     "output_type": "stream",
     "text": [
      "Valor de k:  1\n",
      "Accuracy:  0.936\n",
      "F1:  0.933\n"
     ]
    }
   ],
   "source": [
    "k_max=0\n",
    "F1kNN_max=0\n",
    "ACkNN_max=0\n",
    "\n",
    "for k in k_valores:\n",
    "    modelokNN = neighbors.KNeighborsClassifier(n_neighbors=k,weights='uniform')\n",
    "    modelokNN.fit(X_val_train, Y_val_train)\n",
    "    y_val_pred=modelokNN.predict(X_val_test)\n",
    "    ACkNN=accuracy_score(Y_val_test, Y_val_pred)\n",
    "     F1kNN=f1_score(Y_val_test,Y_val_pred, average='macro')\n",
    "    \n",
    "    if F1kNN>F1kNN_max:\n",
    "        k_max=k\n",
    "        F1kNN_max=F1kNN\n",
    "        ACkNN_max=ACkNN\n",
    "        \n",
    "    \n",
    "    \n",
    "print('Valor de k: ', k_max)\n",
    "print(\"Accuracy: \", round(ACkNN_max,3))\n",
    "print(\"F1: \", round(F1kNN_max,3))"
   ]
  },
  {
   "cell_type": "markdown",
   "metadata": {},
   "source": [
    "#### Arbol :"
   ]
  },
  {
   "cell_type": "code",
   "execution_count": 10,
   "metadata": {},
   "outputs": [
    {
     "name": "stdout",
     "output_type": "stream",
     "text": [
      "Valor de :profundidad  5\n",
      "Accuracy:  0.955\n",
      "F1:  0.952\n"
     ]
    }
   ],
   "source": [
    "profundidades=np.arange(1,201,1)\n",
    "\n",
    "p_Max=0               # profundidad para la cual obtendermos el mejor F1\n",
    "ACT_Max=0\n",
    "F1T_Max=0\n",
    "\n",
    "for p in profundidades: \n",
    "    modeloT=DecisionTreeClassifier(max_depth=p, random_state=123)        #Creamos el modelo con profundidad p\n",
    "    modeloT.fit(X_val_train, Y_val_train)              # Lo entrenamos\n",
    "    Y_val_pred = modeloT.predict(X_val_test)           # Pronosticamos los valores de y para los valores del X_test\n",
    "    AC_T=accuracy_score(Y_val_test, Y_val_pred)\n",
    "    F1_T=f1_score(Y_val_test,Y_val_pred, average='macro')\n",
    "    \n",
    "    if F1_T>F1T_Max:\n",
    "        p_Max=p\n",
    "        F1T_Max=F1_T\n",
    "        ACT_Max=AC_T\n",
    "    \n",
    "print('Valor de :profundidad ', p_Max)\n",
    "print(\"Accuracy: \", round(ACT_Max,3))\n",
    "print(\"F1: \", round(F1T_Max,3))"
   ]
  },
  {
   "cell_type": "markdown",
   "metadata": {},
   "source": [
    "### comparamos los resultados de todos los modelos:"
   ]
  },
  {
   "cell_type": "code",
   "execution_count": 11,
   "metadata": {},
   "outputs": [
    {
     "name": "stdout",
     "output_type": "stream",
     "text": [
      "RLog -> F1:  0.954 | AC_RLog:  0.955\n",
      "kNN -> F1:  0.952 | ACkNN:  0.955 | k=  1\n",
      "Árbol -> F1:  0.952 | ACT:  0.955 | p=  5\n"
     ]
    }
   ],
   "source": [
    "print(\"RLog -> F1: \", round(F1_RLog,3), '| AC_RLog: ', round(AC_RLog,3))\n",
    "print(\"kNN -> F1: \", round(F1kNN_max,3), '| ACkNN: ', round(ACkNN_max,3),\"| k= \",k_max)\n",
    "print(\"Árbol -> F1: \",round(F1T_Max,3),'| ACT: ', round(ACT_Max,3), \"| p= \",p_Max )"
   ]
  },
  {
   "cell_type": "markdown",
   "metadata": {},
   "source": [
    "## EVALUACION"
   ]
  },
  {
   "cell_type": "code",
   "execution_count": 12,
   "metadata": {},
   "outputs": [
    {
     "name": "stdout",
     "output_type": "stream",
     "text": [
      "Evaluación modelo de Regresión Logística en el Validation\n",
      "Accuracy:  0.993\n",
      "F1:  0.993\n"
     ]
    }
   ],
   "source": [
    "modeloRLog= linear_model.LogisticRegression(max_iter=2000, penalty='none', fit_intercept=True , random_state=123)\n",
    "modeloRLog.fit(X_train,Y_train)\n",
    "Y_pred=modeloRLog.predict(X_test)\n",
    "\n",
    "AC_RLog_Final= accuracy_score(Y_test, Y_pred)\n",
    "F1_RLog_Final=f1_score(Y_test, Y_pred, average='weighted')\n",
    "#mostramos los resultados:\n",
    "print(\"Evaluación modelo de Regresión Logística en el Validation\")\n",
    "print(\"Accuracy: \", round(AC_RLog_Final,3))\n",
    "print(\"F1: \", round(F1_RLog_Final,3))\n"
   ]
  },
  {
   "cell_type": "code",
   "execution_count": 13,
   "metadata": {},
   "outputs": [
    {
     "name": "stdout",
     "output_type": "stream",
     "text": [
      "Valor de k:  1\n",
      "Accuracy:  0.993\n",
      "F1:  0.992\n"
     ]
    }
   ],
   "source": [
    "k=1\n",
    "modelokNN = neighbors.KNeighborsClassifier(n_neighbors=k,weights='uniform')\n",
    "modelokNN.fit(X_train, Y_train)\n",
    "y_pred=modelokNN.predict(X_test)\n",
    "ACkNN=accuracy_score(Y_test, Y_pred)\n",
    "F1kNN=f1_score(Y_test,Y_pred, average='macro')\n",
    "\n",
    "    \n",
    "print('Valor de k: ', k)\n",
    "print(\"Accuracy: \", round(ACkNN,3))\n",
    "print(\"F1: \", round(F1kNN,3))"
   ]
  },
  {
   "cell_type": "code",
   "execution_count": 17,
   "metadata": {},
   "outputs": [
    {
     "data": {
      "text/plain": [
       "LogisticRegression(max_iter=2000, penalty='none', random_state=123)"
      ]
     },
     "execution_count": 17,
     "metadata": {},
     "output_type": "execute_result"
    }
   ],
   "source": [
    "modelo_produccion=linear_model.LogisticRegression(max_iter=2000, penalty='none', fit_intercept=True , random_state=123)\n",
    "modelo_produccion.fit(X,Y)"
   ]
  },
  {
   "cell_type": "code",
   "execution_count": 19,
   "metadata": {},
   "outputs": [],
   "source": [
    "import pickle \n",
    "nombre_archivo='tp_wisconsin.sav'\n",
    "\n",
    "pickle.dump(modelo_produccion, open (nombre_archivo,'wb'))"
   ]
  },
  {
   "cell_type": "code",
   "execution_count": null,
   "metadata": {},
   "outputs": [],
   "source": []
  },
  {
   "cell_type": "code",
   "execution_count": null,
   "metadata": {},
   "outputs": [],
   "source": []
  }
 ],
 "metadata": {
  "kernelspec": {
   "display_name": "Python 3",
   "language": "python",
   "name": "python3"
  },
  "language_info": {
   "codemirror_mode": {
    "name": "ipython",
    "version": 3
   },
   "file_extension": ".py",
   "mimetype": "text/x-python",
   "name": "python",
   "nbconvert_exporter": "python",
   "pygments_lexer": "ipython3",
   "version": "3.8.5"
  }
 },
 "nbformat": 4,
 "nbformat_minor": 4
}
